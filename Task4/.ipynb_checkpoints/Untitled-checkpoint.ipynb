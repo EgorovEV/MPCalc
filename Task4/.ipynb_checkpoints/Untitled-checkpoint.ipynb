{
 "cells": [
  {
   "cell_type": "markdown",
   "metadata": {},
   "source": [
    "# ОТЧЕТ ПО ЗАДАЧЕ_4.\n",
    "Решение задачи TSP путем применения генетического алгоритма."
   ]
  },
  {
   "cell_type": "code",
   "execution_count": null,
   "metadata": {
    "collapsed": true
   },
   "outputs": [],
   "source": [
    "\n",
    "import numpy as np\n",
    "import matplotlib.pyplot as plt\n",
    "%matplotlib inline\n",
    "\n",
    "results = []\n",
    "f = open('stats.txt', 'r')\n",
    "for line in f:\n",
    "    results[i].append(line)\n",
    "\n",
    "        \n",
    "results_cost_min = []\n",
    "results_cost_max = []\n",
    "results_cost_avg = []\n",
    "results_iteration = []\n",
    "\n",
    "i = 0;\n",
    "for res in results:\n",
    "    results_cost_min.append(int(res.split(' ')[0]))\n",
    "    results_cost_max.append(int(res.split(' ')[0]))\n",
    "    results_cost_avg.append(int(res.split(' ')[0]))\n",
    "    results_iteration.append(i)\n",
    "    i+=1\n",
    "                    \n",
    "    \n",
    "plt.figure(figsize=(12, 6))\n",
    "#for time in results_with_N_20k:\n",
    "\n",
    "plt.plot(results_iteration, results_cost_min, label=\"population = 1000\")\n",
    "plt.title(r\"$title$\", fontsize=14)\n",
    "plt.xlabel(\"iteration\")\n",
    "plt.ylabel(\"minimum weight\")\n",
    "plt.xlim(0)\n",
    "plt.ylim(0)\n",
    "plt.legend()\n",
    "plt.show()\n"
   ]
  }
 ],
 "metadata": {
  "kernelspec": {
   "display_name": "Python 3",
   "language": "python",
   "name": "python3"
  },
  "language_info": {
   "codemirror_mode": {
    "name": "ipython",
    "version": 3
   },
   "file_extension": ".py",
   "mimetype": "text/x-python",
   "name": "python",
   "nbconvert_exporter": "python",
   "pygments_lexer": "ipython3",
   "version": "3.5.2"
  }
 },
 "nbformat": 4,
 "nbformat_minor": 2
}
