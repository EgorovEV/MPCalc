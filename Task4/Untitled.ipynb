{
 "cells": [
  {
   "cell_type": "markdown",
   "metadata": {},
   "source": [
    "# ОТЧЕТ ПО ЗАДАЧЕ_4.\n",
    "Решение задачи TSP путем применения генетического алгоритма."
   ]
  },
  {
   "cell_type": "code",
   "execution_count": null,
   "metadata": {
    "collapsed": true
   },
   "outputs": [],
   "source": [
    "\n",
    "import numpy as np\n",
    "import matplotlib.pyplot as plt\n",
    "%matplotlib inline\n",
    "\n",
    "results = []\n",
    "f = open('stats.txt', 'r')\n",
    "for line in f:\n",
    "    results[i].append(line)\n",
    "    j += 1\n",
    "    if (j == 7):\n",
    "        j = 0\n",
    "        i += 1\n",
    "        \n",
    "results_cost = []\n",
    "results_iteration = []\n",
    "\n",
    "for i in range(0,5):\n",
    "    results_cost.append(float(((results[i][4]).split(' '))[2]))\n",
    "    results_iteration.append(float(((results[i][4]).split(' '))[8]))\n",
    "    \n",
    "plt.figure(figsize=(12, 6))\n",
    "#for time in results_with_N_20k:\n",
    "\n",
    "plt.plot(results_with_N_20k_P, results_with_N_20k_time, label=\"N = 20.000\")\n",
    "plt.title(r\"$T(P)$\", fontsize=14)\n",
    "plt.xlabel(\"#threads\")\n",
    "plt.ylabel(\"seconds\")\n",
    "plt.xlim(0)\n",
    "plt.ylim(0)\n",
    "plt.legend()\n",
    "plt.show()\n"
   ]
  }
 ],
 "metadata": {
  "kernelspec": {
   "display_name": "Python 3",
   "language": "python",
   "name": "python3"
  },
  "language_info": {
   "codemirror_mode": {
    "name": "ipython",
    "version": 3
   },
   "file_extension": ".py",
   "mimetype": "text/x-python",
   "name": "python",
   "nbconvert_exporter": "python",
   "pygments_lexer": "ipython3",
   "version": "3.5.2"
  }
 },
 "nbformat": 4,
 "nbformat_minor": 2
}
